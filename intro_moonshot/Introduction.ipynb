{
 "cells": [
  {
   "cell_type": "markdown",
   "metadata": {},
   "source": [
    "<a href=\"https://www.quantrocket.com\"><img alt=\"QuantRocket logo\" src=\"https://www.quantrocket.com/assets/img/notebook-header-logo.png\"></a>\n",
    "\n",
    "<a href=\"https://www.quantrocket.com/disclaimer/\">Disclaimer</a>"
   ]
  },
  {
   "cell_type": "markdown",
   "metadata": {},
   "source": [
    "# Getting Started with Moonshot\n",
    "\n",
    "This tutorial shows you how to retrieve daily historical data for equities, analyze your data in a research notebook, and backtest an end-of-day cross-sectional momentum strategy using Moonshot.\n",
    "    \n",
    "**Data collection**\n",
    "\n",
    "* Part 1: [Historical Data Collection](Part1-Historical-Data-Collection.ipynb)\n",
    "* Part 2: [Universe Selection](Part2-Universe-Selection.ipynb)\n",
    "\n",
    "**Research and Backtesting**\n",
    "\n",
    "*Research*\n",
    "\n",
    "* Part 3: [Momentum Factor Research](Part3-Momentum-Factor-Research.ipynb)\n",
    "\n",
    "*Moonshot*\n",
    "\n",
    "* Part 4: [Moonshot Strategy Code](Part4-Moonshot-Strategy-Code.ipynb)\n",
    "* Part 5: [Moonshot Backtest](Part5-Moonshot-Backtest.ipynb)\n",
    "* Part 6: [Moonshot Parameter Scans](Part6-Moonshot-Parameter-Scans.ipynb)"
   ]
  }
 ],
 "metadata": {
  "kernelspec": {
   "display_name": "Python 3",
   "language": "python",
   "name": "python3"
  },
  "language_info": {
   "codemirror_mode": {
    "name": "ipython",
    "version": 3
   },
   "file_extension": ".py",
   "mimetype": "text/x-python",
   "name": "python",
   "nbconvert_exporter": "python",
   "pygments_lexer": "ipython3",
   "version": "3.7.6"
  }
 },
 "nbformat": 4,
 "nbformat_minor": 4
}
