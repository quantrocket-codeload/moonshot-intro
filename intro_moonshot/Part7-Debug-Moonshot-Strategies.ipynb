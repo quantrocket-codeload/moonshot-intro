{
 "cells": [
  {
   "cell_type": "markdown",
   "metadata": {},
   "source": [
    "<a href=\"https://www.quantrocket.com\"><img alt=\"QuantRocket logo\" src=\"https://www.quantrocket.com/assets/img/notebook-header-logo.png\"></a><br>\n",
    "<a href=\"https://www.quantrocket.com/disclaimer/\">Disclaimer</a>"
   ]
  },
  {
   "cell_type": "markdown",
   "metadata": {},
   "source": [
    "***\n",
    "[Moonshot Intro](Introduction.ipynb) › Part 7: Debug Moonshot Strategies\n",
    "***"
   ]
  },
  {
   "cell_type": "markdown",
   "metadata": {},
   "source": [
    "# Debugging Moonshot Strategies"
   ]
  },
  {
   "cell_type": "markdown",
   "metadata": {},
   "source": [
    "The recommended workflow for developing a Moonshot strategy is to start in a notebook, where you can develop your code interactively, then transfer the finished code to a `.py` file for backtesting. (This approach is described in more detail in the [usage guide](https://qrok.it/p/moonshot-interactive-dev).) Once you've transferred your code to a `.py` file, you can continue to debug your strategy interactively using the technique described in this notebook. The basic technique is to open the `.py` file in JupyterLab and attach a console for interactive exploration. "
   ]
  },
  {
   "cell_type": "markdown",
   "metadata": {},
   "source": [
    "The debugging steps are as follows:\n",
    "\n",
    "1. Open your Moonshot strategy file [umd.py](../moonshot/umd.py) in the JupyterLab editor.\n",
    "2. Right-click in the file and select \"Create Console for Editor\"\n",
    "3. Select the entire contents of the file (Ctrl+A on Windows or Cmd+A on Mac), then click Ctrl+Enter to load the file contents into the console.\n",
    "4. In the Console window, instantiate your Moonshot strategy and name the variable `self`. Here, we are exploring the `UpMinusDownDemo` strategy:\n",
    "\n",
    "```python\n",
    "self = UpMinusDownDemo()\n",
    "```\n",
    "\n",
    "5. Load prices for the desired date range by calling your strategy's `get_prices` method (this method is defined on the `Moonshot` base class):\n",
    "\n",
    "```python\n",
    "prices = self.get_prices(start_date=\"2017-01-01\", end_date=\"2017-02-01\")\n",
    "```\n",
    "\n",
    "6. To debug `prices_to_signals`, select the body of the method (everything excluding the method definition at the top and the return statement at the bottom), then click Shift+Enter. This copies the selected lines to the console and executes them. Normally the `prices` variable is passed as a parameter to `prices_to_signals`, but in this case we already loaded a `prices` variable in the previous step, so the executed code uses that.\n",
    "7. At this point, all the local variables from the `prices_to_signals` method are loaded in the console and can be inspected interactively.\n",
    "8. This process can be continued to explore additional methods like `signals_to_target_weights`. Since both a `signals` variable and `prices` variable are now loaded in the console, you can select and execute the body of `signals_to_target_weights` and it will use those variables. You can then inspect the variables created in `signals_to_target_weights`. \n",
    "\n",
    "See the video below for a step-by-step demonstration."
   ]
  },
  {
   "cell_type": "code",
   "execution_count": 1,
   "metadata": {},
   "outputs": [
    {
     "data": {
      "text/html": [
       "\n",
       "        <iframe\n",
       "            width=\"700\"\n",
       "            height=\"394\"\n",
       "            src=\"https://player.vimeo.com/video/925534381\"\n",
       "            frameborder=\"0\"\n",
       "            allowfullscreen\n",
       "            \n",
       "        ></iframe>\n",
       "        "
      ],
      "text/plain": [
       "<IPython.lib.display.VimeoVideo at 0xffff2ed95390>"
      ]
     },
     "execution_count": 1,
     "metadata": {},
     "output_type": "execute_result"
    }
   ],
   "source": [
    "from IPython.display import VimeoVideo\n",
    "VimeoVideo('925534381', width=700, height=394)"
   ]
  },
  {
   "cell_type": "markdown",
   "metadata": {},
   "source": [
    "<div class=\"alert alert-warning\"> ⚠️ Due to an open issue in the current version of JupyterLab used in QuantRocket, please use Ctrl + Enter to copy code from the file editor to the console, not Shift + Enter as stated in the video.</div>"
   ]
  },
  {
   "cell_type": "markdown",
   "metadata": {},
   "source": [
    "***\n",
    "\n",
    "[Back to Introduction](Introduction.ipynb)"
   ]
  }
 ],
 "metadata": {
  "kernelspec": {
   "display_name": "Python 3.11",
   "language": "python",
   "name": "python3"
  },
  "language_info": {
   "codemirror_mode": {
    "name": "ipython",
    "version": 3
   },
   "file_extension": ".py",
   "mimetype": "text/x-python",
   "name": "python",
   "nbconvert_exporter": "python",
   "pygments_lexer": "ipython3",
   "version": "3.11.0"
  }
 },
 "nbformat": 4,
 "nbformat_minor": 4
}
