{
 "cells": [
  {
   "cell_type": "markdown",
   "metadata": {},
   "source": [
    "<img alt=\"QuantRocket logo\" src=\"https://www.quantrocket.com/assets/img/notebook-header-logo.png\">\n",
    "\n",
    "<a href=\"https://www.quantrocket.com/disclaimer/\">Disclaimer</a>"
   ]
  },
  {
   "cell_type": "markdown",
   "metadata": {},
   "source": [
    "# Moonshot Strategy Code"
   ]
  },
  {
   "cell_type": "markdown",
   "metadata": {},
   "source": [
    "Next we'll use Moonshot to backtest the momentum factor we explored in the previous notebook."
   ]
  },
  {
   "cell_type": "markdown",
   "metadata": {},
   "source": [
    "## What is Moonshot?\n",
    "\n",
    "Moonshot is an open-source, vectorized backtester created by QuantRocket. A vectorized backtester is one which uses vectorized operations to backtest an entire date range at once, in contrast to event-driven backtesters like Zipline which process one event at a time. Moonshot uses pandas to perform vectorized operations. You can learn more about Moonshot in the [usage guide](https://www.quantrocket.com/docs/#moonshot)."
   ]
  },
  {
   "cell_type": "markdown",
   "metadata": {},
   "source": [
    "## Install UMD strategy file\n",
    "\n",
    "Cross-sectional momentum strategies which buy recent winners and sell recent losers commonly go by the name of UMD, or \"Up Minus Down.\" An implementation of UMD for Moonshot is available in [umd.py](umd.py).\n",
    "\n",
    "To \"install\" the strategy, execute the following cell to move the strategy file to the `/codeload/moonshot` directory, where Moonshot looks:\n",
    "\n",
    "> The ! sytax below lets us execute terminal commands from inside the notebook."
   ]
  },
  {
   "cell_type": "code",
   "execution_count": 1,
   "metadata": {},
   "outputs": [],
   "source": [
    "# make directory if doesn't exist\n",
    "!mkdir -p /codeload/moonshot\n",
    "\n",
    "!mv umd.py /codeload/moonshot/"
   ]
  },
  {
   "cell_type": "markdown",
   "metadata": {},
   "source": [
    "## How a Moonshot backtest works\n",
    "\n",
    "The usage guide describes in detail how a Moonshot backtest works, but here we'll just cover a few highlights. Near the top of the file, you'll see the `UpMinusDown` class, which inherits from the `Moonshot` class.\n",
    "\n",
    "```python\n",
    "class UpMinusDown(Moonshot):\n",
    "\n",
    "    CODE = \"umd\"\n",
    "    MOMENTUM_WINDOW = 252\n",
    "    RANKING_PERIOD_GAP = 22\n",
    "    LOOKBACK_WINDOW = MOMENTUM_WINDOW\n",
    "    TOP_N_PCT = 50\n",
    "    REBALANCE_INTERVAL = \"M\"\n",
    "\n",
    "    def prices_to_signals(self, prices):\n",
    "        closes = prices.loc[\"Close\"]\n",
    "        returns = closes.shift(self.RANKING_PERIOD_GAP)/closes.shift(self.MOMENTUM_WINDOW) - 1\n",
    "        ...\n",
    "```\n",
    "\n",
    "Strategy logic is implemented in class methods (for example, `prices_to_signals`), and parameters are stored as class attributes (for example, `REBALANCE_INTERVAL`).\n",
    "\n",
    "Now find the `UpMinusDownDemo` class further down in the file:\n",
    "\n",
    "```python\n",
    "class UpMinusDownDemo(UpMinusDown):\n",
    "\n",
    "    CODE = \"umd-demo\"\n",
    "    DB = \"usstock-free-1d\"\n",
    "    UNIVERSES = \"usstock-free\"\n",
    "    TOP_N_PCT = 50\n",
    "    COMMISSION_CLASS = USStockCommission\n",
    "```\n",
    "\n",
    "This class is a subclass of `UpMinusDown` and thus inherits its functionality while overriding a few of its parameters. This is the actual strategy we will run in our backtest. Note the `DB` parameter: it tells the strategy to use the history database we created in an earlier tutorial. The optional `UNIVERSES` parameter indicates which subset of securities in the database to query. (Since the securities in our sample universe are the only securities in our history database, the `UNIVERSES` parameter could be omitted in this case.) The `CODE` parameter gives us an easy way to reference the strategy via the QuantRocket API.\n"
   ]
  },
  {
   "cell_type": "markdown",
   "metadata": {},
   "source": [
    "***\n",
    "\n",
    "## *Next Up*\n",
    "\n",
    "Part 5: [Moonshot Backtest](Part5-Moonshot-Backtest.ipynb)"
   ]
  }
 ],
 "metadata": {
  "kernelspec": {
   "display_name": "Python 3",
   "language": "python",
   "name": "python3"
  },
  "language_info": {
   "codemirror_mode": {
    "name": "ipython",
    "version": 3
   },
   "file_extension": ".py",
   "mimetype": "text/x-python",
   "name": "python",
   "nbconvert_exporter": "python",
   "pygments_lexer": "ipython3",
   "version": "3.7.6"
  }
 },
 "nbformat": 4,
 "nbformat_minor": 4
}
